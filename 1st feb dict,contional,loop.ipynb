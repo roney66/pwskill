{
 "cells": [
  {
   "cell_type": "code",
   "execution_count": 1,
   "id": "04c4b27b-da40-4e07-a251-6ee3eb65254a",
   "metadata": {},
   "outputs": [],
   "source": [
    "d = {}"
   ]
  },
  {
   "cell_type": "code",
   "execution_count": 3,
   "id": "5b78ede4-267b-4270-b1c0-ae0a645da52a",
   "metadata": {},
   "outputs": [
    {
     "data": {
      "text/plain": [
       "dict"
      ]
     },
     "execution_count": 3,
     "metadata": {},
     "output_type": "execute_result"
    }
   ],
   "source": [
    "type(d)"
   ]
  },
  {
   "cell_type": "code",
   "execution_count": 7,
   "id": "892775c0-f32b-4a34-b7c2-b27ae9bb7b3f",
   "metadata": {},
   "outputs": [],
   "source": [
    "d1 = {'key' : \"subh\"}"
   ]
  },
  {
   "cell_type": "code",
   "execution_count": 8,
   "id": "e8491a96-05cd-4a8e-9db7-caad0a8a080d",
   "metadata": {},
   "outputs": [
    {
     "data": {
      "text/plain": [
       "{'key': 'subh'}"
      ]
     },
     "execution_count": 8,
     "metadata": {},
     "output_type": "execute_result"
    }
   ],
   "source": [
    "d1"
   ]
  },
  {
   "cell_type": "code",
   "execution_count": 9,
   "id": "9e77b17a-e5f8-4a97-8cc7-8a2c40f042be",
   "metadata": {},
   "outputs": [],
   "source": [
    "d2 = {'name' : \"shubham\" , \"email\" : \"roney66@gmail.com\", \"number\" : 9997674343}"
   ]
  },
  {
   "cell_type": "code",
   "execution_count": 11,
   "id": "6aa4f19b-3edf-4be9-a053-61df0d8cdcd1",
   "metadata": {},
   "outputs": [
    {
     "data": {
      "text/plain": [
       "{'name': 'shubham', 'email': 'roney66@gmail.com', 'number': 9997674343}"
      ]
     },
     "execution_count": 11,
     "metadata": {},
     "output_type": "execute_result"
    }
   ],
   "source": [
    "d2"
   ]
  },
  {
   "cell_type": "code",
   "execution_count": 28,
   "id": "47b8ff25-f67b-4862-8d5f-a1ba37b87e2d",
   "metadata": {},
   "outputs": [],
   "source": [
    "d3 = {365 :\"shubh\" , '@joe' : \"sory\" , True : \"2546\", False : \"00000\" }"
   ]
  },
  {
   "cell_type": "code",
   "execution_count": 29,
   "id": "2fd61962-758f-4d98-a862-b46dd430e6c0",
   "metadata": {},
   "outputs": [
    {
     "data": {
      "text/plain": [
       "{365: 'shubh', '@joe': 'sory', True: '2546', False: '00000'}"
      ]
     },
     "execution_count": 29,
     "metadata": {},
     "output_type": "execute_result"
    }
   ],
   "source": [
    "d3"
   ]
  },
  {
   "cell_type": "code",
   "execution_count": 30,
   "id": "fe143433-4e8e-4aae-8301-e82d2e349c50",
   "metadata": {},
   "outputs": [
    {
     "data": {
      "text/plain": [
       "'shubh'"
      ]
     },
     "execution_count": 30,
     "metadata": {},
     "output_type": "execute_result"
    }
   ],
   "source": [
    "d3[365]"
   ]
  },
  {
   "cell_type": "code",
   "execution_count": 31,
   "id": "9e15d5f8-0d40-4c0c-84a9-4aff513b1a2a",
   "metadata": {},
   "outputs": [
    {
     "data": {
      "text/plain": [
       "'2546'"
      ]
     },
     "execution_count": 31,
     "metadata": {},
     "output_type": "execute_result"
    }
   ],
   "source": [
    "d3[True]"
   ]
  },
  {
   "cell_type": "code",
   "execution_count": 32,
   "id": "dbfc6ba9-1a5a-4362-b938-71e25d195c27",
   "metadata": {},
   "outputs": [
    {
     "data": {
      "text/plain": [
       "'2546'"
      ]
     },
     "execution_count": 32,
     "metadata": {},
     "output_type": "execute_result"
    }
   ],
   "source": [
    "d3[1]"
   ]
  },
  {
   "cell_type": "code",
   "execution_count": 33,
   "id": "c6fc51c1-431b-4175-82a5-82d458d27a9a",
   "metadata": {},
   "outputs": [
    {
     "data": {
      "text/plain": [
       "'00000'"
      ]
     },
     "execution_count": 33,
     "metadata": {},
     "output_type": "execute_result"
    }
   ],
   "source": [
    "d3[0]"
   ]
  },
  {
   "cell_type": "code",
   "execution_count": 36,
   "id": "29eac61a-4fb2-4155-b3c2-fc51a2a198cc",
   "metadata": {},
   "outputs": [],
   "source": [
    "d4 = {'name' : \"subh\", 'mail id' : \"fsdgfsh@gmail.com\" ,\"name\":\"subham\" } "
   ]
  },
  {
   "cell_type": "code",
   "execution_count": 37,
   "id": "5a147ae8-322e-45dc-a460-9a0779f3f9bf",
   "metadata": {},
   "outputs": [
    {
     "data": {
      "text/plain": [
       "{'name': 'subham', 'mail id': 'fsdgfsh@gmail.com'}"
      ]
     },
     "execution_count": 37,
     "metadata": {},
     "output_type": "execute_result"
    }
   ],
   "source": [
    "d4"
   ]
  },
  {
   "cell_type": "code",
   "execution_count": 40,
   "id": "485d2b98-4aa5-486c-8f1d-c63dbedd364a",
   "metadata": {},
   "outputs": [],
   "source": [
    "d5 = {\"company\" : \"pwskil\", \"course\" : [\"web dev\" , \"data science\", \"java script\"]}"
   ]
  },
  {
   "cell_type": "code",
   "execution_count": 43,
   "id": "169fb002-158b-44f7-8734-9a3b9e5bc1e8",
   "metadata": {},
   "outputs": [
    {
     "data": {
      "text/plain": [
       "'java script'"
      ]
     },
     "execution_count": 43,
     "metadata": {},
     "output_type": "execute_result"
    }
   ],
   "source": [
    "d5[\"course\"][2]"
   ]
  },
  {
   "cell_type": "code",
   "execution_count": 5,
   "id": "00b151d0-e903-4347-ab9c-534c9bbe8840",
   "metadata": {},
   "outputs": [],
   "source": [
    "d6 = {\"number\" : [2,34,52,62,63] , \"assignment\" : (1,2,3,4,5,6) , \"launch_date\" : {8,12,14} , \"class_time\" : {\"web_dev\" : 8, \"java\" : 5, \"data science\" : 6}}"
   ]
  },
  {
   "cell_type": "code",
   "execution_count": 6,
   "id": "902e3577-f9d5-4b5d-995c-cbb475a7feee",
   "metadata": {},
   "outputs": [
    {
     "data": {
      "text/plain": [
       "{'number': [2, 34, 52, 62, 63],\n",
       " 'assignment': (1, 2, 3, 4, 5, 6),\n",
       " 'launch_date': {8, 12, 14},\n",
       " 'class_time': {'web_dev': 8, 'java': 5, 'data science': 6}}"
      ]
     },
     "execution_count": 6,
     "metadata": {},
     "output_type": "execute_result"
    }
   ],
   "source": [
    "d6"
   ]
  },
  {
   "cell_type": "code",
   "execution_count": 7,
   "id": "7be0c0ad-d28c-44b8-9732-7822fd764a90",
   "metadata": {},
   "outputs": [
    {
     "data": {
      "text/plain": [
       "{'number': [2, 34, 52, 62, 63],\n",
       " 'assignment': (1, 2, 3, 4, 5, 6),\n",
       " 'launch_date': {8, 12, 14},\n",
       " 'class_time': {'web_dev': 8, 'java': 5, 'data science': 6}}"
      ]
     },
     "execution_count": 7,
     "metadata": {},
     "output_type": "execute_result"
    }
   ],
   "source": [
    "d6"
   ]
  },
  {
   "cell_type": "code",
   "execution_count": 10,
   "id": "c681053b-4886-4609-8140-908d57e6e8be",
   "metadata": {},
   "outputs": [
    {
     "data": {
      "text/plain": [
       "['number', 'assignment', 'launch_date', 'class_time']"
      ]
     },
     "execution_count": 10,
     "metadata": {},
     "output_type": "execute_result"
    }
   ],
   "source": [
    "list (d6.keys())"
   ]
  },
  {
   "cell_type": "code",
   "execution_count": 14,
   "id": "379ae964-72c1-4176-84f0-5c0f2655bcdb",
   "metadata": {},
   "outputs": [
    {
     "data": {
      "text/plain": [
       "dict_values([[2, 34, 52, 62, 63], (1, 2, 3, 4, 5, 6), {8, 12, 14}, {'web_dev': 8, 'java': 5, 'data science': 6}])"
      ]
     },
     "execution_count": 14,
     "metadata": {},
     "output_type": "execute_result"
    }
   ],
   "source": [
    "d6.values()"
   ]
  },
  {
   "cell_type": "code",
   "execution_count": 16,
   "id": "fc2fcf53-cc2a-40fd-81b8-a69f79eedb3e",
   "metadata": {},
   "outputs": [
    {
     "data": {
      "text/plain": [
       "[('number', [2, 34, 52, 62, 63]),\n",
       " ('assignment', (1, 2, 3, 4, 5, 6)),\n",
       " ('launch_date', {8, 12, 14}),\n",
       " ('class_time', {'web_dev': 8, 'java': 5, 'data science': 6})]"
      ]
     },
     "execution_count": 16,
     "metadata": {},
     "output_type": "execute_result"
    }
   ],
   "source": [
    "list (d6.items())"
   ]
  },
  {
   "cell_type": "code",
   "execution_count": 25,
   "id": "dcf6a9c5-ea93-45ca-bac3-676d2582b176",
   "metadata": {},
   "outputs": [
    {
     "name": "stdin",
     "output_type": "stream",
     "text": [
      "enter your marks 70\n"
     ]
    },
    {
     "name": "stdout",
     "output_type": "stream",
     "text": [
      "you will be a part of A1 batch\n"
     ]
    }
   ],
   "source": [
    "marks = int(input(\"enter your marks\"))\n",
    "if marks >= 80 :\n",
    "    print(\"you will be a part of A0 batch\")\n",
    "elif marks >= 60 and marks< 80:\n",
    "    print(\"you will be a part of A1 batch\")\n",
    "elif marks >= 40 and marks< 60:\n",
    "    print(\"you will be a part of A2 batch\")\n",
    "else : \n",
    "    print(\"you will be a part of A3 batch\")\n",
    "    \n",
    "    "
   ]
  },
  {
   "cell_type": "code",
   "execution_count": 13,
   "id": "82453d9f-74d9-4b18-b4fe-e8e0a44bec82",
   "metadata": {},
   "outputs": [
    {
     "data": {
      "text/plain": [
       "False"
      ]
     },
     "execution_count": 13,
     "metadata": {},
     "output_type": "execute_result"
    }
   ],
   "source": [
    "10 >= 80"
   ]
  },
  {
   "cell_type": "code",
   "execution_count": 21,
   "id": "acc12463-6bbd-4b35-8643-de35decc23c7",
   "metadata": {},
   "outputs": [
    {
     "name": "stdin",
     "output_type": "stream",
     "text": [
      "enter your marks 50\n"
     ]
    }
   ],
   "source": [
    "marks = int(input(\"enter your marks\"))"
   ]
  },
  {
   "cell_type": "code",
   "execution_count": 19,
   "id": "072abdf4-e123-4927-ac5b-d5650cdcb031",
   "metadata": {},
   "outputs": [
    {
     "data": {
      "text/plain": [
       "'50'"
      ]
     },
     "execution_count": 19,
     "metadata": {},
     "output_type": "execute_result"
    }
   ],
   "source": [
    "marks"
   ]
  },
  {
   "cell_type": "code",
   "execution_count": 22,
   "id": "dfae56fb-52a1-41a9-9e5d-535d18da4ca2",
   "metadata": {},
   "outputs": [
    {
     "data": {
      "text/plain": [
       "int"
      ]
     },
     "execution_count": 22,
     "metadata": {},
     "output_type": "execute_result"
    }
   ],
   "source": [
    "type(marks)"
   ]
  },
  {
   "cell_type": "code",
   "execution_count": 28,
   "id": "2cf6f25e-1c83-4316-beae-1ee4a911e08b",
   "metadata": {},
   "outputs": [
    {
     "name": "stdin",
     "output_type": "stream",
     "text": [
      "enter price 2000\n"
     ]
    },
    {
     "name": "stdout",
     "output_type": "stream",
     "text": [
      "i will not purchase\n"
     ]
    }
   ],
   "source": [
    "price = int(input(\"enter price\"))\n",
    "if price > 1000:\n",
    "    print(\"i will not purchase\")\n",
    "else :\n",
    "    print(\"i will purchase\")\n",
    "    "
   ]
  },
  {
   "cell_type": "code",
   "execution_count": 34,
   "id": "b04994eb-df88-4a32-b6a3-956c98c5a822",
   "metadata": {},
   "outputs": [
    {
     "name": "stdin",
     "output_type": "stream",
     "text": [
      "enter price 100\n"
     ]
    },
    {
     "name": "stdout",
     "output_type": "stream",
     "text": [
      "jaldi se khareed le\n"
     ]
    }
   ],
   "source": [
    "price = int(input(\"enter price\"))\n",
    "if price > 1000:\n",
    "    print(\"i will not purchase\")\n",
    "if price > 5000:\n",
    "    print(\"this is too much\")\n",
    "if price < 2000:\n",
    "    print(\"jaldi se khareed le\")\n"
   ]
  },
  {
   "cell_type": "code",
   "execution_count": null,
   "id": "c8f3ccb2-24a0-4d19-8c35-c33089e1ea21",
   "metadata": {},
   "outputs": [],
   "source": []
  },
  {
   "cell_type": "code",
   "execution_count": 35,
   "id": "4ac505fb-a0a1-4c8e-9184-c99f110fa338",
   "metadata": {},
   "outputs": [],
   "source": [
    "l = [1,2,3,4,3,4,5,4,6,7,8,6]"
   ]
  },
  {
   "cell_type": "code",
   "execution_count": 36,
   "id": "841081a3-b875-4281-9ffa-0ee27d753ff5",
   "metadata": {},
   "outputs": [
    {
     "data": {
      "text/plain": [
       "2"
      ]
     },
     "execution_count": 36,
     "metadata": {},
     "output_type": "execute_result"
    }
   ],
   "source": [
    "l[0] +1"
   ]
  },
  {
   "cell_type": "code",
   "execution_count": 37,
   "id": "bfd8304a-696a-4c02-a3e0-f9bcad894730",
   "metadata": {},
   "outputs": [
    {
     "data": {
      "text/plain": [
       "0"
      ]
     },
     "execution_count": 37,
     "metadata": {},
     "output_type": "execute_result"
    }
   ],
   "source": [
    "l[0] -1"
   ]
  },
  {
   "cell_type": "code",
   "execution_count": 38,
   "id": "834fe166-996f-498e-a209-bb632e3c106d",
   "metadata": {},
   "outputs": [
    {
     "name": "stdout",
     "output_type": "stream",
     "text": [
      "1\n",
      "2\n",
      "3\n",
      "4\n",
      "3\n",
      "4\n",
      "5\n",
      "4\n",
      "6\n",
      "7\n",
      "8\n",
      "6\n"
     ]
    }
   ],
   "source": [
    "for i in l : \n",
    "    print(i)"
   ]
  },
  {
   "cell_type": "code",
   "execution_count": 44,
   "id": "1f13baf0-ada3-43eb-8d4b-8129b9c75699",
   "metadata": {},
   "outputs": [
    {
     "name": "stdout",
     "output_type": "stream",
     "text": [
      "2\n",
      "3\n",
      "4\n",
      "5\n",
      "4\n",
      "5\n",
      "6\n",
      "5\n",
      "7\n",
      "8\n",
      "9\n",
      "7\n"
     ]
    },
    {
     "data": {
      "text/plain": [
       "[2, 3, 4, 5, 4, 5, 6, 5, 7, 8, 9, 7]"
      ]
     },
     "execution_count": 44,
     "metadata": {},
     "output_type": "execute_result"
    }
   ],
   "source": [
    "l1 = []\n",
    "for i in l  :\n",
    "    print(i+1)\n",
    "    l1.append(i+1)\n",
    "l1"
   ]
  },
  {
   "cell_type": "code",
   "execution_count": 45,
   "id": "53f1c834-7590-4db0-bebe-7b39e4345dde",
   "metadata": {},
   "outputs": [],
   "source": [
    "l = [\"shubham\" , \"nagar\" , \"mbd\" , \"college\"]"
   ]
  },
  {
   "cell_type": "code",
   "execution_count": 47,
   "id": "aeef3338-6497-42f0-bbeb-ba6467a5ce54",
   "metadata": {},
   "outputs": [
    {
     "name": "stdout",
     "output_type": "stream",
     "text": [
      "shubham\n",
      "nagar\n",
      "mbd\n",
      "college\n"
     ]
    }
   ],
   "source": [
    "l1 = []\n",
    "for i in l :\n",
    "    print(i)\n",
    "    l1.append(i.upper())"
   ]
  },
  {
   "cell_type": "code",
   "execution_count": 48,
   "id": "f4323dfb-6e30-49cf-a109-60775c6bd354",
   "metadata": {},
   "outputs": [
    {
     "data": {
      "text/plain": [
       "['SHUBHAM', 'NAGAR', 'MBD', 'COLLEGE']"
      ]
     },
     "execution_count": 48,
     "metadata": {},
     "output_type": "execute_result"
    }
   ],
   "source": [
    "l1"
   ]
  },
  {
   "cell_type": "code",
   "execution_count": 49,
   "id": "3436ae41-da86-4d0e-a1eb-571c9ef40616",
   "metadata": {},
   "outputs": [],
   "source": [
    "l = [1,2,3,4,5, \"shubham\" , \"nagar\" , 324,35.356,\"abs\"]"
   ]
  },
  {
   "cell_type": "code",
   "execution_count": 50,
   "id": "1573720d-95db-4091-a11d-08894fe1246f",
   "metadata": {},
   "outputs": [],
   "source": [
    "l1_num= []\n",
    "l2_str = []\n",
    "for i in l :\n",
    "    if type(i) == int or type(i) == float :\n",
    "        l1_num.append(i)\n",
    "    else :\n",
    "        l2_str.append(i)"
   ]
  },
  {
   "cell_type": "code",
   "execution_count": 51,
   "id": "c9604e6b-e430-4da6-ba6d-7553c83afeb4",
   "metadata": {},
   "outputs": [
    {
     "data": {
      "text/plain": [
       "[1, 2, 3, 4, 5, 324, 35.356]"
      ]
     },
     "execution_count": 51,
     "metadata": {},
     "output_type": "execute_result"
    }
   ],
   "source": [
    "l1_num"
   ]
  },
  {
   "cell_type": "code",
   "execution_count": 52,
   "id": "0343c235-4d1e-407f-be0b-2a0666fd2b91",
   "metadata": {},
   "outputs": [
    {
     "data": {
      "text/plain": [
       "['shubham', 'nagar', 'abs']"
      ]
     },
     "execution_count": 52,
     "metadata": {},
     "output_type": "execute_result"
    }
   ],
   "source": [
    "l2_str"
   ]
  },
  {
   "cell_type": "code",
   "execution_count": null,
   "id": "14c53e9c-a56b-4ff6-bbf6-694ff8890c4d",
   "metadata": {},
   "outputs": [],
   "source": []
  }
 ],
 "metadata": {
  "kernelspec": {
   "display_name": "Python 3 (ipykernel)",
   "language": "python",
   "name": "python3"
  },
  "language_info": {
   "codemirror_mode": {
    "name": "ipython",
    "version": 3
   },
   "file_extension": ".py",
   "mimetype": "text/x-python",
   "name": "python",
   "nbconvert_exporter": "python",
   "pygments_lexer": "ipython3",
   "version": "3.10.8"
  }
 },
 "nbformat": 4,
 "nbformat_minor": 5
}
